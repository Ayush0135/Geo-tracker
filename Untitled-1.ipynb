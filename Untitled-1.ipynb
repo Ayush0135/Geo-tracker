{
 "cells": [
  {
   "cell_type": "code",
   "execution_count": 1,
   "id": "647a5908",
   "metadata": {},
   "outputs": [
    {
     "name": "stdout",
     "output_type": "stream",
     "text": [
      "Collecting phonenumbers\n",
      "  Downloading phonenumbers-9.0.12-py2.py3-none-any.whl.metadata (11 kB)\n",
      "Downloading phonenumbers-9.0.12-py2.py3-none-any.whl (2.6 MB)\n",
      "\u001b[2K   \u001b[90m━━━━━━━━━━━━━━━━━━━━━━━━━━━━━━━━━━━━━━━━\u001b[0m \u001b[32m2.6/2.6 MB\u001b[0m \u001b[31m1.3 MB/s\u001b[0m  \u001b[33m0:00:02\u001b[0m eta \u001b[36m0:00:01\u001b[0m\n",
      "\u001b[?25hInstalling collected packages: phonenumbers\n",
      "Successfully installed phonenumbers-9.0.12\n"
     ]
    }
   ],
   "source": [
    "! pip install phonenumbers\n"
   ]
  },
  {
   "cell_type": "code",
   "execution_count": 7,
   "id": "9f59dbaf",
   "metadata": {},
   "outputs": [
    {
     "name": "stdout",
     "output_type": "stream",
     "text": [
      "Collecting pycountry\n",
      "  Downloading pycountry-24.6.1-py3-none-any.whl.metadata (12 kB)\n",
      "Requirement already satisfied: phonenumbers in /Library/Frameworks/Python.framework/Versions/3.11/lib/python3.11/site-packages (9.0.12)\n",
      "Downloading pycountry-24.6.1-py3-none-any.whl (6.3 MB)\n",
      "\u001b[2K   \u001b[90m━━━━━━━━━━━━━━━━━━━━━━━━━━━━━━━━━━━━━━━━\u001b[0m \u001b[32m6.3/6.3 MB\u001b[0m \u001b[31m1.5 MB/s\u001b[0m  \u001b[33m0:00:04\u001b[0m eta \u001b[36m0:00:01\u001b[0m\n",
      "\u001b[?25hInstalling collected packages: pycountry\n",
      "Successfully installed pycountry-24.6.1\n"
     ]
    }
   ],
   "source": [
    "! pip install pycountry phonenumbers\n"
   ]
  },
  {
   "cell_type": "code",
   "execution_count": 2,
   "id": "9168705a",
   "metadata": {},
   "outputs": [
    {
     "name": "stdout",
     "output_type": "stream",
     "text": [
      "Collecting folium\n",
      "  Downloading folium-0.20.0-py2.py3-none-any.whl.metadata (4.2 kB)\n",
      "Collecting opencage\n",
      "  Downloading opencage-3.2.0-py3-none-any.whl.metadata (7.9 kB)\n",
      "Collecting branca>=0.6.0 (from folium)\n",
      "  Downloading branca-0.8.1-py3-none-any.whl.metadata (1.5 kB)\n",
      "Requirement already satisfied: jinja2>=2.9 in /Library/Frameworks/Python.framework/Versions/3.11/lib/python3.11/site-packages (from folium) (3.1.6)\n",
      "Requirement already satisfied: numpy in /Library/Frameworks/Python.framework/Versions/3.11/lib/python3.11/site-packages (from folium) (2.3.1)\n",
      "Requirement already satisfied: requests in /Library/Frameworks/Python.framework/Versions/3.11/lib/python3.11/site-packages (from folium) (2.32.4)\n",
      "Collecting xyzservices (from folium)\n",
      "  Downloading xyzservices-2025.4.0-py3-none-any.whl.metadata (4.3 kB)\n",
      "Collecting backoff>=2.2.1 (from opencage)\n",
      "  Downloading backoff-2.2.1-py3-none-any.whl.metadata (14 kB)\n",
      "Requirement already satisfied: tqdm>=4.66.4 in /Library/Frameworks/Python.framework/Versions/3.11/lib/python3.11/site-packages (from opencage) (4.67.1)\n",
      "Requirement already satisfied: certifi>=2024.07.04 in /Library/Frameworks/Python.framework/Versions/3.11/lib/python3.11/site-packages (from opencage) (2025.8.3)\n",
      "Collecting aiohttp>=3.10.5 (from opencage)\n",
      "  Downloading aiohttp-3.12.15-cp311-cp311-macosx_11_0_arm64.whl.metadata (7.7 kB)\n",
      "Collecting aiohappyeyeballs>=2.5.0 (from aiohttp>=3.10.5->opencage)\n",
      "  Using cached aiohappyeyeballs-2.6.1-py3-none-any.whl.metadata (5.9 kB)\n",
      "Collecting aiosignal>=1.4.0 (from aiohttp>=3.10.5->opencage)\n",
      "  Downloading aiosignal-1.4.0-py3-none-any.whl.metadata (3.7 kB)\n",
      "Requirement already satisfied: attrs>=17.3.0 in /Library/Frameworks/Python.framework/Versions/3.11/lib/python3.11/site-packages (from aiohttp>=3.10.5->opencage) (25.3.0)\n",
      "Collecting frozenlist>=1.1.1 (from aiohttp>=3.10.5->opencage)\n",
      "  Downloading frozenlist-1.7.0-cp311-cp311-macosx_11_0_arm64.whl.metadata (18 kB)\n",
      "Collecting multidict<7.0,>=4.5 (from aiohttp>=3.10.5->opencage)\n",
      "  Downloading multidict-6.6.4-cp311-cp311-macosx_11_0_arm64.whl.metadata (5.3 kB)\n",
      "Collecting propcache>=0.2.0 (from aiohttp>=3.10.5->opencage)\n",
      "  Downloading propcache-0.3.2-cp311-cp311-macosx_11_0_arm64.whl.metadata (12 kB)\n",
      "Collecting yarl<2.0,>=1.17.0 (from aiohttp>=3.10.5->opencage)\n",
      "  Downloading yarl-1.20.1-cp311-cp311-macosx_11_0_arm64.whl.metadata (73 kB)\n",
      "Requirement already satisfied: idna>=2.0 in /Library/Frameworks/Python.framework/Versions/3.11/lib/python3.11/site-packages (from yarl<2.0,>=1.17.0->aiohttp>=3.10.5->opencage) (3.10)\n",
      "Requirement already satisfied: typing-extensions>=4.2 in /Users/ayush/Library/Python/3.11/lib/python/site-packages (from aiosignal>=1.4.0->aiohttp>=3.10.5->opencage) (4.14.1)\n",
      "Requirement already satisfied: MarkupSafe>=2.0 in /Library/Frameworks/Python.framework/Versions/3.11/lib/python3.11/site-packages (from jinja2>=2.9->folium) (3.0.2)\n",
      "Requirement already satisfied: charset_normalizer<4,>=2 in /Library/Frameworks/Python.framework/Versions/3.11/lib/python3.11/site-packages (from requests->folium) (3.4.2)\n",
      "Requirement already satisfied: urllib3<3,>=1.21.1 in /Library/Frameworks/Python.framework/Versions/3.11/lib/python3.11/site-packages (from requests->folium) (2.5.0)\n",
      "Downloading folium-0.20.0-py2.py3-none-any.whl (113 kB)\n",
      "Downloading opencage-3.2.0-py3-none-any.whl (23 kB)\n",
      "Downloading aiohttp-3.12.15-cp311-cp311-macosx_11_0_arm64.whl (471 kB)\n",
      "Downloading multidict-6.6.4-cp311-cp311-macosx_11_0_arm64.whl (44 kB)\n",
      "Downloading yarl-1.20.1-cp311-cp311-macosx_11_0_arm64.whl (89 kB)\n",
      "Using cached aiohappyeyeballs-2.6.1-py3-none-any.whl (15 kB)\n",
      "Downloading aiosignal-1.4.0-py3-none-any.whl (7.5 kB)\n",
      "Downloading backoff-2.2.1-py3-none-any.whl (15 kB)\n",
      "Downloading branca-0.8.1-py3-none-any.whl (26 kB)\n",
      "Downloading frozenlist-1.7.0-cp311-cp311-macosx_11_0_arm64.whl (47 kB)\n",
      "Downloading propcache-0.3.2-cp311-cp311-macosx_11_0_arm64.whl (43 kB)\n",
      "Downloading xyzservices-2025.4.0-py3-none-any.whl (90 kB)\n",
      "Installing collected packages: xyzservices, propcache, multidict, frozenlist, backoff, aiohappyeyeballs, yarl, branca, aiosignal, folium, aiohttp, opencage\n",
      "\u001b[2K   \u001b[90m━━━━━━━━━━━━━━━━━━━━━━━━━━━━━━━━━━━━━━━━\u001b[0m \u001b[32m12/12\u001b[0m [opencage]/12\u001b[0m [aiohttp]\n",
      "\u001b[1A\u001b[2KSuccessfully installed aiohappyeyeballs-2.6.1 aiohttp-3.12.15 aiosignal-1.4.0 backoff-2.2.1 branca-0.8.1 folium-0.20.0 frozenlist-1.7.0 multidict-6.6.4 opencage-3.2.0 propcache-0.3.2 xyzservices-2025.4.0 yarl-1.20.1\n"
     ]
    }
   ],
   "source": [
    "! pip install folium opencage\n"
   ]
  },
  {
   "cell_type": "code",
   "execution_count": 4,
   "id": "48d0ce42",
   "metadata": {},
   "outputs": [
    {
     "name": "stdout",
     "output_type": "stream",
     "text": [
      "Location: India\n",
      "Service provider: Reliance Jio\n"
     ]
    },
    {
     "ename": "TypeError",
     "evalue": "list indices must be integers or slices, not str",
     "output_type": "error",
     "traceback": [
      "\u001b[31m---------------------------------------------------------------------------\u001b[39m",
      "\u001b[31mTypeError\u001b[39m                                 Traceback (most recent call last)",
      "\u001b[36mCell\u001b[39m\u001b[36m \u001b[39m\u001b[32mIn[4]\u001b[39m\u001b[32m, line 21\u001b[39m\n\u001b[32m     19\u001b[39m results = geocoder_api.geocode(yourLocation)\n\u001b[32m     20\u001b[39m lat = results[\u001b[32m0\u001b[39m][\u001b[33m'\u001b[39m\u001b[33mgeometry\u001b[39m\u001b[33m'\u001b[39m][\u001b[33m'\u001b[39m\u001b[33mlat\u001b[39m\u001b[33m'\u001b[39m]\n\u001b[32m---> \u001b[39m\u001b[32m21\u001b[39m lng = \u001b[43mresults\u001b[49m\u001b[43m[\u001b[49m\u001b[33;43m'\u001b[39;49m\u001b[33;43mgeometry\u001b[39;49m\u001b[33;43m'\u001b[39;49m\u001b[43m]\u001b[49m[\u001b[33m'\u001b[39m\u001b[33mlng\u001b[39m\u001b[33m'\u001b[39m]\n\u001b[32m     23\u001b[39m \u001b[38;5;66;03m# Create map\u001b[39;00m\n\u001b[32m     24\u001b[39m myMap = folium.Map(location=[lat, lng], zoom_start=\u001b[32m9\u001b[39m)\n",
      "\u001b[31mTypeError\u001b[39m: list indices must be integers or slices, not str"
     ]
    }
   ],
   "source": [
    "import phonenumbers\n",
    "from phonenumbers import geocoder, carrier\n",
    "import folium\n",
    "from opencage.geocoder import OpenCageGeocode\n",
    "\n",
    "number = input(\"Enter the PhoneNumber with the country code: \")\n",
    "phoneNumber = phonenumbers.parse(number)\n",
    "api_key = \"e5d923f716584a84a222e846f7560875\"  # Replace with your own key\n",
    "\n",
    "# Get location details\n",
    "yourLocation = geocoder.description_for_number(phoneNumber, \"en\")\n",
    "print(\"Location:\", yourLocation)\n",
    "\n",
    "yourServiceProvider = carrier.name_for_number(phoneNumber, \"en\")\n",
    "print(\"Service provider:\", yourServiceProvider)\n",
    "\n",
    "# Get lat/lng coordinates using OpenCage\n",
    "geocoder_api = OpenCageGeocode(api_key)\n",
    "results = geocoder_api.geocode(yourLocation)\n",
    "lat = results[0]['geometry']['lat']\n",
    "lng = results['geometry']['lng']\n",
    "\n",
    "# Create map\n",
    "myMap = folium.Map(location=[lat, lng], zoom_start=9)\n",
    "folium.Marker([lat, lng], popup=yourLocation).add_to(myMap)\n",
    "myMap.save(\"Location.html\")\n",
    "print(\"Map saved as Location.html\")\n"
   ]
  },
  {
   "cell_type": "code",
   "execution_count": null,
   "id": "599ff0d8",
   "metadata": {},
   "outputs": [],
   "source": []
  },
  {
   "cell_type": "code",
   "execution_count": null,
   "id": "2c5316b3",
   "metadata": {},
   "outputs": [],
   "source": []
  },
  {
   "cell_type": "code",
   "execution_count": null,
   "id": "7aff24e5",
   "metadata": {},
   "outputs": [],
   "source": []
  },
  {
   "cell_type": "code",
   "execution_count": null,
   "id": "645a15e6",
   "metadata": {},
   "outputs": [],
   "source": []
  },
  {
   "cell_type": "code",
   "execution_count": null,
   "id": "5b974128",
   "metadata": {},
   "outputs": [],
   "source": []
  },
  {
   "cell_type": "code",
   "execution_count": 19,
   "id": "e2cca88b",
   "metadata": {},
   "outputs": [
    {
     "name": "stdout",
     "output_type": "stream",
     "text": [
      "Location: India\n",
      "Service provider: Airtel\n"
     ]
    },
    {
     "ename": "TypeError",
     "evalue": "list indices must be integers or slices, not str",
     "output_type": "error",
     "traceback": [
      "\u001b[31m---------------------------------------------------------------------------\u001b[39m",
      "\u001b[31mTypeError\u001b[39m                                 Traceback (most recent call last)",
      "\u001b[36mCell\u001b[39m\u001b[36m \u001b[39m\u001b[32mIn[19]\u001b[39m\u001b[32m, line 26\u001b[39m\n\u001b[32m     24\u001b[39m \u001b[38;5;28;01mif\u001b[39;00m results \u001b[38;5;129;01mand\u001b[39;00m \u001b[38;5;28mlen\u001b[39m(results):\n\u001b[32m     25\u001b[39m     lat = results[\u001b[32m0\u001b[39m][\u001b[33m'\u001b[39m\u001b[33mgeometry\u001b[39m\u001b[33m'\u001b[39m][\u001b[33m'\u001b[39m\u001b[33mlat\u001b[39m\u001b[33m'\u001b[39m]\n\u001b[32m---> \u001b[39m\u001b[32m26\u001b[39m     lng = \u001b[43mresults\u001b[49m\u001b[43m[\u001b[49m\u001b[33;43m'\u001b[39;49m\u001b[33;43mgeometry\u001b[39;49m\u001b[33;43m'\u001b[39;49m\u001b[43m]\u001b[49m[\u001b[33m'\u001b[39m\u001b[33mlng\u001b[39m\u001b[33m'\u001b[39m]\n\u001b[32m     28\u001b[39m     \u001b[38;5;66;03m# Create a map centered at the location\u001b[39;00m\n\u001b[32m     29\u001b[39m     myMap = folium.Map(location=[lat, lng], zoom_start=\u001b[32m9\u001b[39m)\n",
      "\u001b[31mTypeError\u001b[39m: list indices must be integers or slices, not str"
     ]
    }
   ],
   "source": [
    "import phonenumbers\n",
    "from phonenumbers import geocoder, carrier\n",
    "import folium\n",
    "from opencage.geocoder import OpenCageGeocode\n",
    "\n",
    "# Input phone number with country code\n",
    "number = input(\"Enter the phone number with country code (e.g. +919876543210): \")\n",
    "phoneNumber = phonenumbers.parse(number)\n",
    "\n",
    "# Get location details (region/city)\n",
    "yourLocation = geocoder.description_for_number(phoneNumber, \"en\")\n",
    "print(\"Location:\", yourLocation)\n",
    "\n",
    "# Get service provider/carrier name\n",
    "yourServiceProvider = carrier.name_for_number(phoneNumber, \"en\")\n",
    "print(\"Service provider:\", yourServiceProvider)\n",
    "\n",
    "# Replace with your OpenCage API key\n",
    "api_key = \"e5d923f716584a84a222e846f7560875\"\n",
    "geocoder_api = OpenCageGeocode(api_key)\n",
    "\n",
    "# Geocode the location to get coordinates\n",
    "results = geocoder_api.geocode(yourLocation)\n",
    "if results and len(results):\n",
    "    lat = results[0]['geometry']['lat']\n",
    "    lng = results['geometry']['lng']\n",
    "\n",
    "    # Create a map centered at the location\n",
    "    myMap = folium.Map(location=[lat, lng], zoom_start=9)\n",
    "    folium.Marker([lat, lng], popup=yourLocation).add_to(myMap)\n",
    "\n",
    "    # Save the map to an HTML file\n",
    "    map_file = \"Location.html\"\n",
    "    myMap.save(map_file)\n",
    "    print(f\"Map saved as {map_file}\")\n",
    "else:\n",
    "    print(\"Could not geocode the location.\")\n"
   ]
  },
  {
   "cell_type": "code",
   "execution_count": null,
   "id": "9af92a2a",
   "metadata": {},
   "outputs": [],
   "source": []
  },
  {
   "cell_type": "code",
   "execution_count": null,
   "id": "a1e7ecb4",
   "metadata": {},
   "outputs": [],
   "source": []
  },
  {
   "cell_type": "code",
   "execution_count": null,
   "id": "ea54f9f6",
   "metadata": {},
   "outputs": [],
   "source": []
  },
  {
   "cell_type": "code",
   "execution_count": null,
   "id": "46d03d83",
   "metadata": {},
   "outputs": [],
   "source": []
  },
  {
   "cell_type": "code",
   "execution_count": null,
   "id": "2481e484",
   "metadata": {},
   "outputs": [],
   "source": []
  },
  {
   "cell_type": "code",
   "execution_count": null,
   "id": "362d974f",
   "metadata": {},
   "outputs": [],
   "source": []
  },
  {
   "cell_type": "code",
   "execution_count": null,
   "id": "5eb2d20e",
   "metadata": {},
   "outputs": [],
   "source": []
  },
  {
   "cell_type": "code",
   "execution_count": null,
   "id": "a557c993",
   "metadata": {},
   "outputs": [
    {
     "name": "stdout",
     "output_type": "stream",
     "text": [
      "Country: India\n",
      "State/Region: India\n",
      "Service Provider: Airtel\n"
     ]
    }
   ],
   "source": [
    "import phonenumbers\n",
    "from phonenumbers import geocoder, carrier, region_code_for_number\n",
    "import pycountry\n",
    "\n",
    "\n",
    "number = input(\"Enter phone number with country code (e.g. +919876543210): \")\n",
    "phoneNumber = phonenumbers.parse(number)\n",
    "\n",
    "state_or_region = geocoder.description_for_number(phoneNumber, \"en\")\n",
    "\n",
    "\n",
    "country_code = region_code_for_number(phoneNumber)\n",
    "country = pycountry.countries.get(alpha_2=country_code).name if country_code else \"Unknown\"\n",
    "\n",
    "# Get carrier/provider name\n",
    "service_provider = carrier.name_for_number(phoneNumber, \"en\")\n",
    "\n",
    "print(f\"Country: {country}\")\n",
    "print(f\"State/Region: {state_or_region}\")\n",
    "print(f\"Service Provider: {service_provider}\")\n"
   ]
  },
  {
   "cell_type": "code",
   "execution_count": null,
   "id": "55bcc0ff",
   "metadata": {},
   "outputs": [],
   "source": []
  }
 ],
 "metadata": {
  "kernelspec": {
   "display_name": "Python 3",
   "language": "python",
   "name": "python3"
  },
  "language_info": {
   "codemirror_mode": {
    "name": "ipython",
    "version": 3
   },
   "file_extension": ".py",
   "mimetype": "text/x-python",
   "name": "python",
   "nbconvert_exporter": "python",
   "pygments_lexer": "ipython3",
   "version": "3.11.0"
  }
 },
 "nbformat": 4,
 "nbformat_minor": 5
}
